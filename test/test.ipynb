{
 "cells": [
  {
   "cell_type": "code",
   "id": "initial_id",
   "metadata": {
    "collapsed": true,
    "ExecuteTime": {
     "end_time": "2025-08-24T05:11:32.773612Z",
     "start_time": "2025-08-24T05:11:32.146207Z"
    }
   },
   "source": [
    "from transformers import AutoTokenizer, AutoModelForSeq2SeqLM\n",
    "from src import config\n",
    "\n",
    "# 指定模型名称\n",
    "model_name = config.PRE_TRAINED_DIR / \"bart-base-chinese\"\n",
    "\n",
    "# 加载 Tokenizer\n",
    "tokenizer = AutoTokenizer.from_pretrained(model_name)\n",
    "\n",
    "# 加载预训练模型\n",
    "model = AutoModelForSeq2SeqLM.from_pretrained(model_name)\n",
    "\n",
    "# 输入上联\n",
    "input_text = \"晚风摇树树还挺\"\n",
    "\n",
    "# 编码输入\n",
    "inputs = tokenizer(input_text, return_tensors=\"pt\")\n",
    "print(inputs)\n",
    "inputs.pop('token_type_ids', None)\n",
    "\n",
    "# 生成下联\n",
    "outputs = model.generate(**inputs, max_length=40, num_beams=4, early_stopping=True)\n",
    "\n",
    "# 解码生成的下联\n",
    "translated_text = tokenizer.decode(outputs[0], skip_special_tokens=True)\n",
    "translated_text = ''.join([i for i in translated_text if i != ' '])\n",
    "print(f\"翻译结果: {translated_text}\")"
   ],
   "outputs": [
    {
     "name": "stdout",
     "output_type": "stream",
     "text": [
      "{'input_ids': tensor([[  101, 11052, 23745, 10529, 11487, 11487, 21497, 10267,   102]]), 'token_type_ids': tensor([[0, 0, 0, 0, 0, 0, 0, 0, 0]]), 'attention_mask': tensor([[1, 1, 1, 1, 1, 1, 1, 1, 1]])}\n",
      "翻译结果: 晚风摇树树还挺\n"
     ]
    }
   ],
   "execution_count": 5
  }
 ],
 "metadata": {
  "kernelspec": {
   "display_name": "Python 3",
   "language": "python",
   "name": "python3"
  },
  "language_info": {
   "codemirror_mode": {
    "name": "ipython",
    "version": 2
   },
   "file_extension": ".py",
   "mimetype": "text/x-python",
   "name": "python",
   "nbconvert_exporter": "python",
   "pygments_lexer": "ipython2",
   "version": "2.7.6"
  }
 },
 "nbformat": 4,
 "nbformat_minor": 5
}
